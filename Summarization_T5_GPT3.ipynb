{
  "cells": [
    {
      "cell_type": "markdown",
      "metadata": {
        "id": "view-in-github",
        "colab_type": "text"
      },
      "source": [
        "<a href=\"https://colab.research.google.com/github/sag30/summarization/blob/main/Summarization_T5_GPT3.ipynb\" target=\"_parent\"><img src=\"https://colab.research.google.com/assets/colab-badge.svg\" alt=\"Open In Colab\"/></a>"
      ]
    },
    {
      "cell_type": "markdown",
      "source": [
        "# Load Libraries"
      ],
      "metadata": {
        "id": "mfbfb-PQi0ml"
      }
    },
    {
      "cell_type": "code",
      "execution_count": null,
      "metadata": {
        "id": "suo78n6_C4UI"
      },
      "outputs": [],
      "source": [
        "pip install transformers"
      ]
    },
    {
      "cell_type": "code",
      "execution_count": null,
      "metadata": {
        "id": "uErOnXTFC6eB"
      },
      "outputs": [],
      "source": [
        "from transformers import pipeline\n",
        "import os"
      ]
    },
    {
      "cell_type": "code",
      "execution_count": null,
      "metadata": {
        "id": "xnsROBhFC-ad"
      },
      "outputs": [],
      "source": [
        "os.environ[\"CUDA_VISIBLE_DEVICES\"] = \"0\""
      ]
    },
    {
      "cell_type": "code",
      "source": [
        "from tensorflow.python.client import device_lib\n",
        "print(device_lib.list_local_devices())"
      ],
      "metadata": {
        "id": "fZ1dHzyrksKq"
      },
      "execution_count": null,
      "outputs": []
    },
    {
      "cell_type": "markdown",
      "source": [
        "# Load Data"
      ],
      "metadata": {
        "id": "YfHbljvHitfJ"
      }
    },
    {
      "cell_type": "code",
      "source": [
        "import pandas as pd\n",
        "df = pd.read_excel('/content/SummaryKeyWords2.xlsx')\n",
        "df = df.head(30)\n",
        "df.shape"
      ],
      "metadata": {
        "id": "tPYg8x1Qiown"
      },
      "execution_count": null,
      "outputs": []
    },
    {
      "cell_type": "code",
      "source": [
        "df.head(2)"
      ],
      "metadata": {
        "id": "H9nMLzmViqJF"
      },
      "execution_count": null,
      "outputs": []
    },
    {
      "cell_type": "markdown",
      "source": [
        "# Summarization using default Transformer Pipline Summary model\n"
      ],
      "metadata": {
        "id": "eTMSG5HE0fp7"
      }
    },
    {
      "cell_type": "code",
      "execution_count": null,
      "metadata": {
        "id": "mpZb3dliC-3P"
      },
      "outputs": [],
      "source": [
        "# summarizer = pipeline(\"summarization\")\n",
        "summarizer = pipeline(\"summarization\", model=\"t5-base\", tokenizer=\"t5-base\", framework=\"tf\")"
      ]
    },
    {
      "cell_type": "code",
      "execution_count": null,
      "metadata": {
        "id": "AgNYCO4sE4NT"
      },
      "outputs": [],
      "source": [
        "def summar(text):\n",
        "  print(\"orig: \",text)\n",
        "  summary_text = summarizer(text, max_length=80, min_length=50, do_sample=False)[0]['summary_text']\n",
        "  print(\"summary: \",summary_text)\n",
        "  return(summary_text)"
      ]
    },
    {
      "cell_type": "code",
      "source": [
        "df = df.head(5)"
      ],
      "metadata": {
        "id": "S6Av2oTOjzgK"
      },
      "execution_count": null,
      "outputs": []
    },
    {
      "cell_type": "code",
      "execution_count": null,
      "metadata": {
        "id": "ITq7U7RkDigV"
      },
      "outputs": [],
      "source": [
        "df['T5_Summary_80'] = df.Conclusion.apply(lambda x:summar(x))"
      ]
    },
    {
      "cell_type": "markdown",
      "source": [
        "# Summarization using T5-base Transformer"
      ],
      "metadata": {
        "id": "5bv18Pwe0r1e"
      }
    },
    {
      "cell_type": "code",
      "execution_count": null,
      "metadata": {
        "id": "soRzXRMhHf1W"
      },
      "outputs": [],
      "source": [
        "!pip3 install sentencepiece"
      ]
    },
    {
      "cell_type": "code",
      "execution_count": null,
      "metadata": {
        "id": "qd5tKmG3GrrP"
      },
      "outputs": [],
      "source": [
        "from transformers import T5ForConditionalGeneration, AutoTokenizer"
      ]
    },
    {
      "cell_type": "code",
      "execution_count": null,
      "metadata": {
        "id": "x1qdbMZnHtes"
      },
      "outputs": [],
      "source": [
        "# initialize the model architecture and weights\n",
        "model = T5ForConditionalGeneration.from_pretrained(\"t5-base\")"
      ]
    },
    {
      "cell_type": "code",
      "execution_count": null,
      "metadata": {
        "id": "4LjANbkpHxAX"
      },
      "outputs": [],
      "source": [
        "# initialize the model tokenizer\n",
        "tokenizer = AutoTokenizer.from_pretrained(\"t5-base\")"
      ]
    },
    {
      "cell_type": "code",
      "execution_count": null,
      "metadata": {
        "id": "T-4L1C_aFYFl"
      },
      "outputs": [],
      "source": [
        "def summar_2(text):\n",
        "  inputs = tokenizer.encode(\"summarize: \" + text, return_tensors=\"pt\", max_length=512, truncation=True)\n",
        "  # generate the summarization output\n",
        "  outputs = model.generate(\n",
        "      inputs, \n",
        "      max_length=80, \n",
        "      min_length=50, \n",
        "      length_penalty=2.0, \n",
        "      num_beams=4, \n",
        "      early_stopping=True)\n",
        "  # just for debugging\n",
        "  # print(outputs)\n",
        "  # print(tokenizer.decode(outputs[0]))\n",
        "  return tokenizer.decode(outputs[0])"
      ]
    },
    {
      "cell_type": "code",
      "source": [
        "text = \"thank you for chatting frontier. this is loue. who am i speaking with please? hi amanda good morning! i hope you and your family are safe especially this time. thank you for bringing this to our attentionreaching us about this matter. a sudden increase on my bill would definitely concern me too. it’s great to know that you are fine and safe. i am doing fine too. lets go ahead and check whats different. you are talking to the best representative and i will make sure that this will be your last time chatting with a rep regarding this matter. i am here to help. before we begin just in case we get delays of our chat know that im here working for your concern. just please stay on the same page to ensure that we wont get disconnected. to get started allow me to pull up your account. can i have the billing telephone number associated with the account? for security purposes can you verify the 5digit passcode. thats alright. here is an easier step to locate your 5 digit passcode 1. please log in to your online account 2. go to &#34my profile&#34 tab and 3. from under that tab you can see &#34show passcode&#34 or get a new passcode. here is a much more convenient way to find your 5digit account passcode you can go to httpsfrontier.comhelpcentercategoriesaccountmanagemyaccountcreatechangeaccountpasscode then login to your account and follow the instruction on that page how you can create or change your passcode. i now have the account pulled up. let me check the account for a minute or two hold on. thank you for patiently waiting. based on the records the only thing thats caused an increase in your monthly rate charge for your fios internet is the expiration of its promotional price. the $10 savings you enjoyed from the time you availed that promotion is valid until 22022. i really wanted to give you an extended promotions for you to keep your amount what i can do is to process you a one time courtesy credit of $10 for your current bill as an appreciation for your being good credit standing customer. and to extend my help i will take $3 of your bill for three months but i know how this affecting your experience them i will make it for 6 months. you re awesome! aside from this are there any other concerns that needs to be addressed? please know that frontier cares for you and that is why i am here. thats how frontier cares. ) hold on please while ill make sure to apply the $10 off from your current bill and the $3 monthly credit for you then. hold on please. thank you for patiently waiting. to recap youve chatted about bill increase. as a resolution the $11.32 adjustment request has been approved and will be posted immediately to your account. and to extend my help i will take $3 of your bill for three months but i know how this affecting your experience them i will make it for 6 months starting next billing cycle. the order number is 062426676. i really enjoyed our conversation and this is what i needed to get me through today. all thanks to you. i thank you again for everything today. have i resolved the reason of our chat today amanda? you are most welcome. before you go if you don’t mind me asking how’s your experience with frontier so far? yes you are right. no worries i will leave comprehensive notes on your account so that if it becomes available any time soon you’ll be notified right away. will that be fine? thanks for the wonderful feedback! i hope you will spare a few minutes to answer a quick survey right after this chat should you want to leave a feedback on how i assisted you today. i will truly appreciate it. when you exit this chat kindly click the 3bar icon and choose end.\"\n",
        "# text_summary_300 = \"based on the records the only thing thats caused an increase in your monthly rate charge for your fios internet is the expiration of its promotional price. i really wanted to give you an extended promotions for you to keep your amount what i can do is to process you a one time courtesy credit of $10 for your current bill as an appreciation for your being good credit standing customer. i will take $3 of your bill for three months but i know how this affecting your experience them i will make it for 6\"\n",
        "\n",
        "# text = '[\"['you are most welcome!', 'is there anything else that i can be of help?', 'same to you.']\"]'\n",
        "# text = df['recap or last 3 sentences'][13]\n",
        "print(text)\n",
        "summar_2(text)"
      ],
      "metadata": {
        "id": "w1_YQ1zBvaCG"
      },
      "execution_count": null,
      "outputs": []
    },
    {
      "cell_type": "code",
      "source": [
        "def clean(text):\n",
        "  text_new = text.replace(\"['\",'').replace(\"]'\",'').replace(\".', '\",\". \").replace(\"', '\",\" \").replace('[\"',\"\")\n",
        "  return text_new\n",
        "\n",
        "df['clean_recap or last 3 sentences']=df['recap or last 3 sentences'].apply(lambda x : clean(x))\n",
        "# df=df.reset_index(drop=True)"
      ],
      "metadata": {
        "id": "YLGqbVSdJWii"
      },
      "execution_count": null,
      "outputs": []
    },
    {
      "cell_type": "code",
      "source": [
        "df.head()"
      ],
      "metadata": {
        "id": "HaqQCE6D5Bmv"
      },
      "execution_count": null,
      "outputs": []
    },
    {
      "cell_type": "code",
      "execution_count": null,
      "metadata": {
        "id": "xVVqyq01HINT"
      },
      "outputs": [],
      "source": [
        "df['T5_Summary_80'] = df['T5_Summary_300'].apply(lambda x:summar_2(x))"
      ]
    },
    {
      "cell_type": "code",
      "source": [
        "df.T5_Summary_80[0]"
      ],
      "metadata": {
        "id": "AZ72sB-1cyIx"
      },
      "execution_count": null,
      "outputs": []
    },
    {
      "cell_type": "code",
      "execution_count": null,
      "metadata": {
        "id": "DolGkj27Jmby"
      },
      "outputs": [],
      "source": [
        "for i in range(len(df.T5_Summary_80)):\n",
        "  str_col = df.T5_Summary_80[i]\n",
        "  str_col = str_col.replace(\"<pad>\",\"\")\n",
        "  str_col = str_col.replace(\"</s>\",\"\")\n",
        "  str_col = str_col.replace(\"'\",'\"')\n",
        "  str_col = str_col.replace('\" \"',' ')\n",
        "  str_col = str_col.replace('<unk>',\"\")\n",
        "  str_col = str_col.replace(' \"','\"').replace('.\",\"' ,\". \"). replace('\",\"',\" \")\n",
        "  df.T5_Summary_80[i]=str_col"
      ]
    },
    {
      "cell_type": "code",
      "source": [
        "df.T5_Summary_80[13]"
      ],
      "metadata": {
        "id": "lvsju3P6Eawv"
      },
      "execution_count": null,
      "outputs": []
    },
    {
      "cell_type": "code",
      "source": [
        "df.to_excel(\"/content/SummaryKeyWords4.xlsx\")"
      ],
      "metadata": {
        "id": "0n7B08-J5HBb"
      },
      "execution_count": null,
      "outputs": []
    },
    {
      "cell_type": "code",
      "source": [
        "df.shape\n",
        "df.columns"
      ],
      "metadata": {
        "id": "vnSadBBh5OON"
      },
      "execution_count": null,
      "outputs": []
    },
    {
      "cell_type": "markdown",
      "source": [
        "# Summarization using GPT3"
      ],
      "metadata": {
        "id": "PqoyLT_x009x"
      }
    },
    {
      "cell_type": "code",
      "source": [
        "!pip install openai"
      ],
      "metadata": {
        "id": "knbkkeWvkhsB"
      },
      "execution_count": null,
      "outputs": []
    },
    {
      "cell_type": "code",
      "source": [
        "import openai\n",
        "import pandas as pd\n",
        "openai.api_key = \"\" ##Enter your open ai key here\n",
        "ENGINE = \"text-davinci-002\"\n",
        "\n",
        "#Using default params of 'Summarize for a 2nd grader' gpt3 preset\n",
        "maxTokens = 64\n",
        "TEMPERATURE = 0.7\n",
        "TOP_P = 1\n",
        "FREQ_PENALTY = 0\n",
        "PRESENCE_PENALTY = 0\n"
      ],
      "metadata": {
        "id": "as6MuGcTkkMy"
      },
      "execution_count": null,
      "outputs": []
    },
    {
      "cell_type": "code",
      "source": [
        "def get_summary_gpt3(context):\n",
        "    prompt = f\"\"\"Summarize this for a second-grade student:\n",
        "\n",
        "    {context}\"\"\"\n",
        "    prompt = prompt.strip()\n",
        "    print(prompt)\n",
        "    res = openai.Completion.create(\n",
        "        engine=ENGINE,\n",
        "        prompt=prompt,\n",
        "        temperature=TEMPERATURE,\n",
        "        max_tokens=maxTokens,\n",
        "        top_p=TOP_P,\n",
        "        frequency_penalty=FREQ_PENALTY,\n",
        "        presence_penalty=PRESENCE_PENALTY\n",
        "        # stop=['\"\"\"', \"\\\\n\\\\n\", \"\\\\n\", \"\\n\"],\n",
        "    )\n",
        "    print(res[\"choices\"][0][\"text\"])\n",
        "    return res[\"choices\"][0][\"text\"]"
      ],
      "metadata": {
        "id": "gHTk9gZ-lII-"
      },
      "execution_count": null,
      "outputs": []
    },
    {
      "cell_type": "code",
      "source": [
        "df = pd.read_excel('/content/SummaryKeywordsSquadNew.xlsx')"
      ],
      "metadata": {
        "id": "eyfuC-_5kamO"
      },
      "execution_count": null,
      "outputs": []
    },
    {
      "cell_type": "code",
      "source": [
        "df['GPT3_Summary'] = df['recap or last 3 sentences'].apply(lambda x:get_summary_gpt3(x))"
      ],
      "metadata": {
        "id": "Meklna7wkgCz"
      },
      "execution_count": null,
      "outputs": []
    },
    {
      "cell_type": "code",
      "source": [
        "df.to_excel(\"/content/SummaryKeywordSquadGPT3.xlsx\")"
      ],
      "metadata": {
        "id": "AZ-Y4GyRmXeA"
      },
      "execution_count": null,
      "outputs": []
    }
  ],
  "metadata": {
    "accelerator": "GPU",
    "colab": {
      "collapsed_sections": [
        "mfbfb-PQi0ml",
        "YfHbljvHitfJ",
        "eTMSG5HE0fp7",
        "5bv18Pwe0r1e"
      ],
      "name": "Summarization_T5_GPT3.ipynb",
      "provenance": [],
      "private_outputs": true,
      "include_colab_link": true
    },
    "kernelspec": {
      "display_name": "Python 3",
      "name": "python3"
    },
    "language_info": {
      "name": "python"
    }
  },
  "nbformat": 4,
  "nbformat_minor": 0
}